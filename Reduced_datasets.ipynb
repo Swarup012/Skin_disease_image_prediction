{
  "nbformat": 4,
  "nbformat_minor": 0,
  "metadata": {
    "colab": {
      "provenance": [],
      "toc_visible": true,
      "authorship_tag": "ABX9TyMfnlOEcS9M8BhbIQvYaEBH",
      "include_colab_link": true
    },
    "kernelspec": {
      "name": "python3",
      "display_name": "Python 3"
    },
    "language_info": {
      "name": "python"
    }
  },
  "cells": [
    {
      "cell_type": "markdown",
      "metadata": {
        "id": "view-in-github",
        "colab_type": "text"
      },
      "source": [
        "<a href=\"https://colab.research.google.com/github/Swarup012/Skin_disease_image_prediction/blob/master/Reduced_datasets.ipynb\" target=\"_parent\"><img src=\"https://colab.research.google.com/assets/colab-badge.svg\" alt=\"Open In Colab\"/></a>"
      ]
    },
    {
      "cell_type": "code",
      "execution_count": 1,
      "metadata": {
        "id": "tc8A3_x9KBUp"
      },
      "outputs": [],
      "source": [
        "import os\n",
        "import shutil\n",
        "import random\n",
        "from pathlib import Path"
      ]
    },
    {
      "cell_type": "code",
      "source": [
        "train_dir = \"/content/drive/MyDrive/Deep_Learning/SkinDisease/SkinDisease/cleanednew_train\"\n",
        "test_dir = \"/content/drive/MyDrive/Deep_Learning/SkinDisease/SkinDisease/cleanednew_test\"\n",
        "output_train_dir = \"/content/drive/MyDrive/Deep_Learning/reduced_50_traindata\"\n",
        "output_test_dir = \"/content/drive/MyDrive/Deep_Learning/reduced_50_testdata\""
      ],
      "metadata": {
        "id": "M9X7u-RjKItB"
      },
      "execution_count": 2,
      "outputs": []
    },
    {
      "cell_type": "code",
      "source": [
        "reduction_percentage = 0.5"
      ],
      "metadata": {
        "id": "OxEXjz2_KM1q"
      },
      "execution_count": null,
      "outputs": []
    },
    {
      "cell_type": "code",
      "source": [
        "Path(output_train_dir).mkdir(parents=True, exist_ok=True)\n",
        "Path(output_test_dir).mkdir(parents=True, exist_ok=True)"
      ],
      "metadata": {
        "id": "yvZEdMwZKPMv"
      },
      "execution_count": null,
      "outputs": []
    },
    {
      "cell_type": "code",
      "source": [
        "def reduce_dataset(input_dir, output_dir, percentage):\n",
        "    # Loop through each disease folder\n",
        "    for disease_folder in os.listdir(input_dir):\n",
        "        disease_path = os.path.join(input_dir, disease_folder)\n",
        "        if not os.path.isdir(disease_path):\n",
        "            continue\n",
        "\n",
        "        # Create corresponding disease folder in output directory\n",
        "        output_disease_path = os.path.join(output_dir, disease_folder)\n",
        "        Path(output_disease_path).mkdir(parents=True, exist_ok=True)\n",
        "\n",
        "        # Get list of images in the disease folder\n",
        "        images = [img for img in os.listdir(disease_path) if img.endswith(('.jpg', '.png', '.jpeg'))]\n",
        "        total_images = len(images)\n",
        "\n",
        "        # Calculate number of images to keep\n",
        "        num_images_to_keep = int(total_images * percentage)\n",
        "\n",
        "        # Randomly select images\n",
        "        selected_images = random.sample(images, num_images_to_keep)\n",
        "\n",
        "        # Copy selected images to output directory\n",
        "        for img in selected_images:\n",
        "            src_path = os.path.join(disease_path, img)\n",
        "            dst_path = os.path.join(output_disease_path, img)\n",
        "            shutil.copy(src_path, dst_path)\n",
        "\n",
        "        print(f\"Reduced {disease_folder}: {total_images} -> {num_images_to_keep}\")"
      ],
      "metadata": {
        "id": "6K5Bog1mKRTW"
      },
      "execution_count": null,
      "outputs": []
    },
    {
      "cell_type": "code",
      "source": [
        "print(\"Reducing train dataset...\")\n",
        "reduce_dataset(train_dir, output_train_dir, reduction_percentage)\n",
        "print(\"Reducing test dataset...\")\n",
        "reduce_dataset(test_dir, output_test_dir, reduction_percentage)"
      ],
      "metadata": {
        "id": "1qiIy5vXKT32"
      },
      "execution_count": null,
      "outputs": []
    }
  ]
}